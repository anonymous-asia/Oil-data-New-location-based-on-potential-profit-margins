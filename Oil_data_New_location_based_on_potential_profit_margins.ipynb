{
  "nbformat": 4,
  "nbformat_minor": 0,
  "metadata": {
    "kernelspec": {
      "display_name": "Python 3",
      "language": "python",
      "name": "python3"
    },
    "language_info": {
      "codemirror_mode": {
        "name": "ipython",
        "version": 3
      },
      "file_extension": ".py",
      "mimetype": "text/x-python",
      "name": "python",
      "nbconvert_exporter": "python",
      "pygments_lexer": "ipython3",
      "version": "3.7.6"
    },
    "colab": {
      "name": "Oil-data-New-location-based-on-potential-profit-margins.ipynb",
      "provenance": []
    }
  },
  "cells": [
    {
      "cell_type": "code",
      "metadata": {
        "id": "mPx0oTQdvOy3",
        "outputId": "c539f451-b15f-4d7f-cd58-6c957cb69cc7"
      },
      "source": [
        "import pandas as pd\n",
        "from sklearn.model_selection import train_test_split\n",
        "from sklearn.linear_model import LinearRegression\n",
        "from sklearn.metrics import mean_squared_error\n",
        "\n",
        "data0=pd.read_csv('https://code.s3.yandex.net/datasets/geo_data_0.csv')\n",
        "data1=pd.read_csv('https://code.s3.yandex.net/datasets/geo_data_1.csv')\n",
        "data2=pd.read_csv('https://code.s3.yandex.net/datasets/geo_data_2.csv')\n",
        "print(data0.info())\n",
        "print(data0.head())\n",
        "print(data1.info())\n",
        "print(data1.head())\n",
        "print(data2.info())\n",
        "print(data2.head())"
      ],
      "execution_count": null,
      "outputs": [
        {
          "output_type": "stream",
          "text": [
            "<class 'pandas.core.frame.DataFrame'>\n",
            "RangeIndex: 100000 entries, 0 to 99999\n",
            "Data columns (total 5 columns):\n",
            "id         100000 non-null object\n",
            "f0         100000 non-null float64\n",
            "f1         100000 non-null float64\n",
            "f2         100000 non-null float64\n",
            "product    100000 non-null float64\n",
            "dtypes: float64(4), object(1)\n",
            "memory usage: 3.8+ MB\n",
            "None\n",
            "      id        f0        f1        f2     product\n",
            "0  txEyH  0.705745 -0.497823  1.221170  105.280062\n",
            "1  2acmU  1.334711 -0.340164  4.365080   73.037750\n",
            "2  409Wp  1.022732  0.151990  1.419926   85.265647\n",
            "3  iJLyR -0.032172  0.139033  2.978566  168.620776\n",
            "4  Xdl7t  1.988431  0.155413  4.751769  154.036647\n",
            "<class 'pandas.core.frame.DataFrame'>\n",
            "RangeIndex: 100000 entries, 0 to 99999\n",
            "Data columns (total 5 columns):\n",
            "id         100000 non-null object\n",
            "f0         100000 non-null float64\n",
            "f1         100000 non-null float64\n",
            "f2         100000 non-null float64\n",
            "product    100000 non-null float64\n",
            "dtypes: float64(4), object(1)\n",
            "memory usage: 3.8+ MB\n",
            "None\n",
            "      id         f0         f1        f2     product\n",
            "0  kBEdx -15.001348  -8.276000 -0.005876    3.179103\n",
            "1  62mP7  14.272088  -3.475083  0.999183   26.953261\n",
            "2  vyE1P   6.263187  -5.948386  5.001160  134.766305\n",
            "3  KcrkZ -13.081196 -11.506057  4.999415  137.945408\n",
            "4  AHL4O  12.702195  -8.147433  5.004363  134.766305\n",
            "<class 'pandas.core.frame.DataFrame'>\n",
            "RangeIndex: 100000 entries, 0 to 99999\n",
            "Data columns (total 5 columns):\n",
            "id         100000 non-null object\n",
            "f0         100000 non-null float64\n",
            "f1         100000 non-null float64\n",
            "f2         100000 non-null float64\n",
            "product    100000 non-null float64\n",
            "dtypes: float64(4), object(1)\n",
            "memory usage: 3.8+ MB\n",
            "None\n",
            "      id        f0        f1        f2     product\n",
            "0  fwXo0 -1.146987  0.963328 -0.828965   27.758673\n",
            "1  WJtFt  0.262778  0.269839 -2.530187   56.069697\n",
            "2  ovLUW  0.194587  0.289035 -5.586433   62.871910\n",
            "3  q6cA6  2.236060 -0.553760  0.930038  114.572842\n",
            "4  WPMUX -0.515993  1.716266  5.899011  149.600746\n"
          ],
          "name": "stdout"
        }
      ]
    },
    {
      "cell_type": "markdown",
      "metadata": {
        "id": "-rcVhoDJvOy5"
      },
      "source": [
        "2. Train and test the model for each region:"
      ]
    },
    {
      "cell_type": "code",
      "metadata": {
        "id": "Xy-l187PvOy6",
        "outputId": "99e56a7e-81f3-432c-f54b-7f6369488a99"
      },
      "source": [
        "#2.1. Split the data into a training set and validation set at a ratio of 75:25.\n",
        "\n",
        "data0_train, data0_valid=train_test_split(data0, test_size=0.25, random_state=12345)\n",
        "data1_train, data1_valid=train_test_split(data1, test_size=0.25, random_state=12345)\n",
        "data2_train, data2_valid=train_test_split(data2, test_size=0.25, random_state=12345)\n",
        "\n",
        "#features and target for data0\n",
        "\n",
        "features_train0=data0_train.drop(['product', 'id'], axis=1)\n",
        "features_valid0=data0_valid.drop(['product', 'id'], axis=1)\n",
        "target_train0=data0_train['product']\n",
        "target_valid0=data0_valid['product']\n",
        "\n",
        "#features and target for data1\n",
        "\n",
        "features_train1=data1_train.drop(['product', 'id'], axis=1)\n",
        "features_valid1=data1_valid.drop(['product', 'id'], axis=1)\n",
        "target_train1=data1_train['product']\n",
        "target_valid1=data1_valid['product']\n",
        "\n",
        "#features and target for data2\n",
        "\n",
        "features_train2=data2_train.drop(['product', 'id'], axis=1)\n",
        "features_valid2=data2_valid.drop(['product', 'id'], axis=1)\n",
        "target_train2=data2_train['product']\n",
        "target_valid2=data2_valid['product']\n",
        "\n",
        "#2.2. Train the model and make predictions for the validation set\n",
        "\n",
        "#model training and prediction for data0\n",
        "model0=LinearRegression()\n",
        "model0.fit(features_train0, target_train0)\n",
        "\n",
        "#model training and prediction for data1\n",
        "model1=LinearRegression()\n",
        "model1.fit(features_train1, target_train1)\n",
        "\n",
        "#model training and prediction for data2\n",
        "model2=LinearRegression()\n",
        "model2.fit(features_train2, target_train2)\n",
        "\n",
        "#2.3. Save the predictions and correct answers for the validation set.\n",
        "\n",
        "predicted0=model0.predict(features_valid0)\n",
        "mse0=mean_squared_error(target_valid0, predicted0)\n",
        "\n",
        "predicted1=model1.predict(features_valid1)\n",
        "mse1=mean_squared_error(target_valid1, predicted1)\n",
        "\n",
        "predicted2=model2.predict(features_valid2)\n",
        "mse2=mean_squared_error(target_valid2, predicted2)\n",
        "\n",
        "#2.4. Print the average volume of predicted reserves and model RMSE.\n",
        "\n",
        "print('region 0', ' ', round(mse0 ** 0.5, 2), ' ', round(predicted0.mean(),2))\n",
        "print('region 1', ' ', round(mse1 ** 0.5, 2), ' ', round(predicted1.mean(),2))\n",
        "print('region 2', ' ', round(mse2 ** 0.5, 2), ' ', round(predicted2.mean(),2))\n"
      ],
      "execution_count": null,
      "outputs": [
        {
          "output_type": "stream",
          "text": [
            "region 0   37.58   92.59\n",
            "region 1   0.89   68.73\n",
            "region 2   40.03   94.97\n"
          ],
          "name": "stdout"
        }
      ]
    },
    {
      "cell_type": "markdown",
      "metadata": {
        "id": "l01WtmsyvOy7"
      },
      "source": [
        "2.5. Analyze the results.\n",
        "\n",
        "region1 has rmse close to 0 which means the average values are distributed closely to mean and only differs by 0.89 units from the mean value. However, region0 and region2 has high rmse which implies that the values are widely distributed with an average deviation of 37 units from mean (region0) and an average deviation of 40 units from mean (region2). "
      ]
    },
    {
      "cell_type": "markdown",
      "metadata": {
        "id": "PMaQHj7tvOy7"
      },
      "source": [
        "3. Prepare for profit calculation:"
      ]
    },
    {
      "cell_type": "code",
      "metadata": {
        "id": "P3eijTkYvOy7",
        "outputId": "15638055-e7e4-4962-b628-6981425d4aeb"
      },
      "source": [
        "#3.1. Store all key values for calculations in separate variables.\n",
        "\n",
        "import numpy as np\n",
        "cost_per_well=100000000/200\n",
        "revenue_per_unit=4500\n",
        "\n",
        "#3.2. Calculate the volume of reserves sufficient for developing a new well without losses. \n",
        "\n",
        "no_loss=cost_per_well/revenue_per_unit\n",
        "\n",
        "#Compare the obtained value with the average volume of reserves in each region.\n",
        "\n",
        "print('region0_avg',' ', np.ceil(data0['product'].mean()))\n",
        "print('region1_avg',' ', np.ceil(data1['product'].mean()))\n",
        "print('region2_avg',' ', np.ceil(data2['product'].mean()))\n",
        "print('no_loss_units',' ', np.ceil(no_loss))"
      ],
      "execution_count": null,
      "outputs": [
        {
          "output_type": "stream",
          "text": [
            "region0_avg   93.0\n",
            "region1_avg   69.0\n",
            "region2_avg   96.0\n",
            "no_loss_units   112.0\n"
          ],
          "name": "stdout"
        }
      ]
    },
    {
      "cell_type": "markdown",
      "metadata": {
        "id": "YuR81E2avOy8"
      },
      "source": [
        "3.3. Provide the findings about the preparation for profit calculation step.\n",
        "\n",
        "Minimum 112 units (thousand barrels) are required to build a new well with no loss. In all the regions, the average no of units are lower than minimum required units for no_loss. "
      ]
    },
    {
      "cell_type": "markdown",
      "metadata": {
        "id": "f38pOvMJvOy9"
      },
      "source": [
        "4. Write a function to calculate profit from a set of selected oil wells and model predictions:"
      ]
    },
    {
      "cell_type": "code",
      "metadata": {
        "id": "LQIwS3pZvOy9",
        "outputId": "46f59e7a-0bce-4c70-c523-b1fdfb6e53fb"
      },
      "source": [
        "#4.1. Pick the wells with the highest values of predictions.\n",
        "#4.2. Summarize the target volume of reserves in accordance with these predictions\n",
        "\n",
        "predicted0_df=pd.Series(predicted0)\n",
        "predicted1_df=pd.Series(predicted1)\n",
        "predicted2_df=pd.Series(predicted2)\n",
        "\n",
        "target0=target_valid0.reset_index(drop=True)\n",
        "target1=target_valid1.reset_index(drop=True)\n",
        "target2=target_valid2.reset_index(drop=True)\n",
        "\n",
        "def profit(target, predicted, count):\n",
        "    predicted_sorted=predicted.sort_values(ascending=False)\n",
        "    selected=target[predicted_sorted.index][:count]\n",
        "    profit=selected.sum()*revenue_per_unit-(count*cost_per_well)\n",
        "    return profit\n",
        "\n",
        "#4.3. Provide findings: suggest a region for oil wells' development and justify the choice. \n",
        "#Calculate the profit for the obtained volume of reserves.\n",
        "\n",
        "print('Profit Region 0:', round(profit(target0, predicted0_df, 200)/1000000,1),'USD million')\n",
        "print('Profit Region 1:', round(profit(target1, predicted1_df, 200)/1000000,1),'USD million')\n",
        "print('Profit Region 2:', round(profit(target2, predicted2_df, 200)/1000000,1),'USD million')\n",
        "    "
      ],
      "execution_count": null,
      "outputs": [
        {
          "output_type": "stream",
          "text": [
            "Profit Region 0: 33.2 USD million\n",
            "Profit Region 1: 24.2 USD million\n",
            "Profit Region 2: 27.1 USD million\n"
          ],
          "name": "stdout"
        }
      ]
    },
    {
      "cell_type": "markdown",
      "metadata": {
        "id": "x3e8XJ9FvOy-"
      },
      "source": [
        "Region 0 has the highest profit for selected top 200 wells. Hence Region 0 should be selected for building new wells."
      ]
    },
    {
      "cell_type": "markdown",
      "metadata": {
        "id": "lSWAfo85vOy_"
      },
      "source": [
        "5. Calculate risks and profit for each region:"
      ]
    },
    {
      "cell_type": "code",
      "metadata": {
        "id": "SPtnlxMBvOy_",
        "outputId": "73928366-285c-4bd1-d84f-c01a177b65dc"
      },
      "source": [
        "#5.1. Use the bootstrapping technique with 1000 samples to find the distribution of profit.\n",
        "\n",
        "state=np.random.RandomState(12345)\n",
        "\n",
        "#bootstraping for region0\n",
        "\n",
        "values0=[]\n",
        "for i in range(1000):\n",
        "    predicted0_subsample=predicted0_df.sample(n=500, replace=True, random_state=state)\n",
        "    target0_subsample=target0[predicted0_subsample.index]\n",
        "    values0.append(profit(target0_subsample, predicted0_subsample,200))\n",
        "values0=pd.Series(values0)\n",
        "\n",
        "#bootstraping for region1\n",
        "\n",
        "values1=[]\n",
        "for i in range(1000):\n",
        "    predicted1_subsample=predicted1_df.sample(n=500, replace=True, random_state=state)\n",
        "    target1_subsample=target1[predicted1_subsample.index]\n",
        "    values1.append(profit(target1_subsample, predicted1_subsample,200))\n",
        "values1=pd.Series(values1)\n",
        "\n",
        "#bootstraping for region2\n",
        "\n",
        "values2=[]\n",
        "for i in range(1000):\n",
        "    predicted2_subsample=predicted2_df.sample(n=500, replace=True, random_state=state)\n",
        "    target2_subsample=target2[predicted2_subsample.index]\n",
        "    values2.append(profit(target2_subsample, predicted2_subsample,200))\n",
        "values2=pd.Series(values2)\n",
        "\n",
        "print('Region0:','|',round(values0.quantile(0.01)/1000000,1),'|', round(values0.quantile(0.99)/1000000,1))\n",
        "print('Region1:','|',round(values1.quantile(0.01)/1000000,1),'|', round(values1.quantile(0.99)/1000000,1))\n",
        "print('Region2:','|',round(values2.quantile(0.01)/1000000,1),'|', round(values2.quantile(0.99)/1000000,1))\n"
      ],
      "execution_count": null,
      "outputs": [
        {
          "output_type": "stream",
          "text": [
            "Region0: | -2.1 | 10.2\n",
            "Region1: | 0.5 | 10.3\n",
            "Region2: | -2.1 | 10.4\n"
          ],
          "name": "stdout"
        }
      ]
    },
    {
      "cell_type": "code",
      "metadata": {
        "id": "RHpp_WZDvOzA",
        "outputId": "9b856335-1a02-49c8-c79c-c8aba549ffa3"
      },
      "source": [
        "#5.2. Find average profit, 95% confidence interval and risk of losses. \n",
        "#Loss is negative profit, calculate it as a probability and then express as a percentage.\n",
        "\n",
        "#Region0\n",
        "\n",
        "count0=0\n",
        "for i in range(len(values0)):\n",
        "    if values0[i]<0:\n",
        "        count0+=1\n",
        "print('Region0:', 'Average Profit:',round(values0.mean()/1000000,1))\n",
        "print('Region0:', '95% confidence interval:', round(values0.quantile(0.025)/1000000,1),'|', round(values0.quantile(0.975)/1000000,1))\n",
        "print('Region0:', 'Risk of loss (%):', count0/len(values0)*100)\n",
        "\n",
        "#Region1\n",
        "\n",
        "count1=0\n",
        "for i in range(len(values1)):\n",
        "    if values1[i]<0:\n",
        "        count1+=1\n",
        "print('Region1:', 'Average Profit:',round(values1.mean()/1000000,1))\n",
        "print('Region1:', '95% confidence interval:', round(values1.quantile(0.025)/1000000,1),'|', round(values1.quantile(0.975)/1000000,1))\n",
        "print('Region1:', 'Risk of loss (%):', count1/len(values1)*100)\n",
        "\n",
        "#region2 \n",
        "\n",
        "count2=0\n",
        "for i in range(len(values2)):\n",
        "    if values2[i]<0:\n",
        "        count2+=1\n",
        "print('Region2:', 'Average Profit:',round(values2.mean()/1000000,1))\n",
        "print('Region2:', '95% confidence interval:', round(values2.quantile(0.025)/1000000,1),'|', round(values2.quantile(0.975)/1000000,1))\n",
        "print('Region2:', 'Risk of loss (%):', count2/len(values2)*100)\n"
      ],
      "execution_count": null,
      "outputs": [
        {
          "output_type": "stream",
          "text": [
            "Region0: Average Profit: 4.3\n",
            "Region0: 95% confidence interval: -1.0 | 9.5\n",
            "Region0: Risk of loss (%): 6.0\n",
            "Region1: Average Profit: 5.2\n",
            "Region1: 95% confidence interval: 1.3 | 9.5\n",
            "Region1: Risk of loss (%): 0.3\n",
            "Region2: Average Profit: 4.2\n",
            "Region2: 95% confidence interval: -1.2 | 9.9\n",
            "Region2: Risk of loss (%): 6.2\n"
          ],
          "name": "stdout"
        }
      ]
    },
    {
      "cell_type": "markdown",
      "metadata": {
        "id": "FgZk8WbAvOzB"
      },
      "source": [
        "5.3. Provide findings: suggest a region for development of oil wells and justify the choice."
      ]
    },
    {
      "cell_type": "markdown",
      "metadata": {
        "id": "5yaP4yX5vOzB"
      },
      "source": [
        "Based on the average profit, confidence interval and risk % calculation, Region1 appears to be the best fit. Region1 has the lowest risk of only 0.3% which is much lower than 6% risk for rest of the 2 regions. The average profit for Region0 is also higher then rest of the regions with the 95% confidence interval value close to other regions."
      ]
    }
  ]
}